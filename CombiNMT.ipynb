{
  "nbformat": 4,
  "nbformat_minor": 0,
  "metadata": {
    "colab": {
      "name": "CombiNMT.ipynb",
      "provenance": [],
      "authorship_tag": "ABX9TyNVM2IWWgfNAxUzHGuVSw3T",
      "include_colab_link": true
    },
    "kernelspec": {
      "name": "python3",
      "display_name": "Python 3"
    }
  },
  "cells": [
    {
      "cell_type": "markdown",
      "metadata": {
        "id": "view-in-github",
        "colab_type": "text"
      },
      "source": [
        "<a href=\"https://colab.research.google.com/github/vladcioaba/vault/blob/main/CombiNMT.ipynb\" target=\"_parent\"><img src=\"https://colab.research.google.com/assets/colab-badge.svg\" alt=\"Open In Colab\"/></a>"
      ]
    },
    {
      "cell_type": "code",
      "metadata": {
        "colab": {
          "base_uri": "https://localhost:8080/"
        },
        "id": "kDoAU0HhX9aV",
        "outputId": "b023dfb0-bd69-4d5d-d760-4ea580fc6634"
      },
      "source": [
        "!git clone https://github.com/senisioi/NeuralTextSimplification.git\n",
        "%cd NeuralTextSimplification/"
      ],
      "execution_count": 4,
      "outputs": [
        {
          "output_type": "stream",
          "text": [
            "fatal: destination path 'NeuralTextSimplification' already exists and is not an empty directory.\n",
            "/content/NeuralTextSimplification\n"
          ],
          "name": "stdout"
        }
      ]
    },
    {
      "cell_type": "code",
      "metadata": {
        "colab": {
          "base_uri": "https://localhost:8080/"
        },
        "id": "92IvQ_Sebtbf",
        "outputId": "4170c04d-0812-4806-eaa9-d689d1487e7f"
      },
      "source": [
        "!luarocks install tds"
      ],
      "execution_count": 5,
      "outputs": [
        {
          "output_type": "stream",
          "text": [
            "/bin/bash: luarocks: command not found\n"
          ],
          "name": "stdout"
        }
      ]
    },
    {
      "cell_type": "code",
      "metadata": {
        "colab": {
          "base_uri": "https://localhost:8080/"
        },
        "id": "847OJAxjbyQW",
        "outputId": "fb043a39-664c-4758-918c-a8934fd7397e"
      },
      "source": [
        "!python src/download_models.py ./models"
      ],
      "execution_count": 6,
      "outputs": [
        {
          "output_type": "stream",
          "text": [
            "[LINE:53]# INFO     [2021-01-20 10:56:02,041]  Saving files to: ./models\n",
            "[LINE:10]# INFO     [2021-01-20 10:56:02,041]  Downloading 0B_pjS_ZjPfT9dEtrbV85UXhSelU to ./models/NTS_epoch11_10.19.t7\n",
            "[LINE:11]# INFO     [2021-01-20 10:56:02,041]  Please be patient, it may take a while...\n",
            "[LINE:813]# DEBUG    [2021-01-20 10:56:02,043]  Starting new HTTPS connection (1): docs.google.com:443\n",
            "[LINE:393]# DEBUG    [2021-01-20 10:56:02,184]  https://docs.google.com:443 \"GET /uc?export=download&id=0B_pjS_ZjPfT9dEtrbV85UXhSelU HTTP/1.1\" 200 None\n",
            "[LINE:16]# INFO     [2021-01-20 10:56:02,186]  ...\n",
            "[LINE:813]# DEBUG    [2021-01-20 10:56:02,188]  Starting new HTTPS connection (2): docs.google.com:443\n",
            "[LINE:393]# DEBUG    [2021-01-20 10:56:02,314]  https://docs.google.com:443 \"GET /uc?export=download&id=0B_pjS_ZjPfT9dEtrbV85UXhSelU&confirm=ChNY HTTP/1.1\" 302 None\n",
            "[LINE:813]# DEBUG    [2021-01-20 10:56:02,316]  Starting new HTTPS connection (1): doc-08-64-docs.googleusercontent.com:443\n",
            "[LINE:393]# DEBUG    [2021-01-20 10:56:02,405]  https://doc-08-64-docs.googleusercontent.com:443 \"GET /docs/securesc/f2rovcfbgsqmoipilapr81cckoqdijf9/l5us26lof0gtput3h306lsuhg7m7goa5/1611140100000/06297222380386734599/16570333352342436186Z/0B_pjS_ZjPfT9dEtrbV85UXhSelU?e=download HTTP/1.1\" 302 0\n",
            "[LINE:393]# DEBUG    [2021-01-20 10:56:02,505]  https://docs.google.com:443 \"GET /nonceSigner?nonce=asmljdvvelre0&continue=https://doc-08-64-docs.googleusercontent.com/docs/securesc/f2rovcfbgsqmoipilapr81cckoqdijf9/l5us26lof0gtput3h306lsuhg7m7goa5/1611140100000/06297222380386734599/16570333352342436186Z/0B_pjS_ZjPfT9dEtrbV85UXhSelU?e%3Ddownload&hash=6i4h7id40qn92bi8juh4qesofpi8dndk HTTP/1.1\" 302 0\n",
            "[LINE:393]# DEBUG    [2021-01-20 10:56:03,057]  https://doc-08-64-docs.googleusercontent.com:443 \"GET /docs/securesc/f2rovcfbgsqmoipilapr81cckoqdijf9/l5us26lof0gtput3h306lsuhg7m7goa5/1611140100000/06297222380386734599/16570333352342436186Z/0B_pjS_ZjPfT9dEtrbV85UXhSelU?e=download&nonce=asmljdvvelre0&user=16570333352342436186Z&hash=70dccp54lbn9c70op1pf5ljvl05ob8kn HTTP/1.1\" 200 None\n",
            "[LINE:22]# INFO     [2021-01-20 10:56:08,691]  Done with 0B_pjS_ZjPfT9dEtrbV85UXhSelU\n",
            "[LINE:10]# INFO     [2021-01-20 10:56:08,691]  Downloading 0B_pjS_ZjPfT9ZTRfSFp4Ql92U0E to ./models/NTS-w2v_epoch11_10.20.t7\n",
            "[LINE:11]# INFO     [2021-01-20 10:56:08,691]  Please be patient, it may take a while...\n",
            "[LINE:813]# DEBUG    [2021-01-20 10:56:08,692]  Starting new HTTPS connection (1): docs.google.com:443\n",
            "[LINE:393]# DEBUG    [2021-01-20 10:56:08,818]  https://docs.google.com:443 \"GET /uc?export=download&id=0B_pjS_ZjPfT9ZTRfSFp4Ql92U0E HTTP/1.1\" 200 None\n",
            "[LINE:16]# INFO     [2021-01-20 10:56:08,819]  ...\n",
            "[LINE:813]# DEBUG    [2021-01-20 10:56:08,821]  Starting new HTTPS connection (2): docs.google.com:443\n",
            "[LINE:393]# DEBUG    [2021-01-20 10:56:08,943]  https://docs.google.com:443 \"GET /uc?export=download&id=0B_pjS_ZjPfT9ZTRfSFp4Ql92U0E&confirm=SRuT HTTP/1.1\" 302 None\n",
            "[LINE:813]# DEBUG    [2021-01-20 10:56:08,948]  Starting new HTTPS connection (1): doc-0s-74-docs.googleusercontent.com:443\n",
            "[LINE:393]# DEBUG    [2021-01-20 10:56:09,037]  https://doc-0s-74-docs.googleusercontent.com:443 \"GET /docs/securesc/b21cv1acqejh9k5mbagt7v3gisn2kph7/c2rj72qaidnlvva40c7mav1ff6relspp/1611140100000/06297222380386734599/01442113637135839912Z/0B_pjS_ZjPfT9ZTRfSFp4Ql92U0E?e=download HTTP/1.1\" 302 0\n",
            "[LINE:393]# DEBUG    [2021-01-20 10:56:09,092]  https://docs.google.com:443 \"GET /nonceSigner?nonce=u904t433dpf2e&continue=https://doc-0s-74-docs.googleusercontent.com/docs/securesc/b21cv1acqejh9k5mbagt7v3gisn2kph7/c2rj72qaidnlvva40c7mav1ff6relspp/1611140100000/06297222380386734599/01442113637135839912Z/0B_pjS_ZjPfT9ZTRfSFp4Ql92U0E?e%3Ddownload&hash=a52sf7etf8phmoacq5mmeq623cjig529 HTTP/1.1\" 302 0\n",
            "[LINE:393]# DEBUG    [2021-01-20 10:56:09,623]  https://doc-0s-74-docs.googleusercontent.com:443 \"GET /docs/securesc/b21cv1acqejh9k5mbagt7v3gisn2kph7/c2rj72qaidnlvva40c7mav1ff6relspp/1611140100000/06297222380386734599/01442113637135839912Z/0B_pjS_ZjPfT9ZTRfSFp4Ql92U0E?e=download&nonce=u904t433dpf2e&user=01442113637135839912Z&hash=q8ktiud5pi4p5di2mt9nuurng152bud1 HTTP/1.1\" 200 None\n",
            "[LINE:22]# INFO     [2021-01-20 10:56:21,207]  Done with 0B_pjS_ZjPfT9ZTRfSFp4Ql92U0E\n"
          ],
          "name": "stdout"
        }
      ]
    },
    {
      "cell_type": "code",
      "metadata": {
        "colab": {
          "base_uri": "https://localhost:8080/"
        },
        "id": "PqPzWZajb_p6",
        "outputId": "d32004a5-e3d4-4cb5-8a35-45752f2516e5"
      },
      "source": [
        "!cd src/scripts && ./translate.sh"
      ],
      "execution_count": 7,
      "outputs": [
        {
          "output_type": "stream",
          "text": [
            "./translate.sh: line 18: th: command not found\n",
            "Check results in /content/NeuralTextSimplification/results_NTS/result_NTS_epoch11_10.19.t7_5\n"
          ],
          "name": "stdout"
        }
      ]
    },
    {
      "cell_type": "code",
      "metadata": {
        "colab": {
          "base_uri": "https://localhost:8080/"
        },
        "id": "4A9xv_JOcTmH",
        "outputId": "e4d32230-e440-4f54-c284-44ded0ac2f2d"
      },
      "source": [
        "!pip install -r src/requirements.txt"
      ],
      "execution_count": 8,
      "outputs": [
        {
          "output_type": "stream",
          "text": [
            "Requirement already satisfied: gensim>=0.13.1 in /usr/local/lib/python3.6/dist-packages (from -r src/requirements.txt (line 1)) (3.6.0)\n",
            "Collecting nltk==3.2.2\n",
            "\u001b[?25l  Downloading https://files.pythonhosted.org/packages/13/ce/cba8bf82c8ab538d444ea4ab6f4eb1d80340c7b737d7a8d1f08b429fccae/nltk-3.2.2.tar.gz (1.2MB)\n",
            "\u001b[K     |████████████████████████████████| 1.2MB 8.0MB/s \n",
            "\u001b[?25hRequirement already satisfied: smart-open>=1.2.1 in /usr/local/lib/python3.6/dist-packages (from gensim>=0.13.1->-r src/requirements.txt (line 1)) (4.1.0)\n",
            "Requirement already satisfied: six>=1.5.0 in /usr/local/lib/python3.6/dist-packages (from gensim>=0.13.1->-r src/requirements.txt (line 1)) (1.15.0)\n",
            "Requirement already satisfied: scipy>=0.18.1 in /usr/local/lib/python3.6/dist-packages (from gensim>=0.13.1->-r src/requirements.txt (line 1)) (1.4.1)\n",
            "Requirement already satisfied: numpy>=1.11.3 in /usr/local/lib/python3.6/dist-packages (from gensim>=0.13.1->-r src/requirements.txt (line 1)) (1.19.5)\n",
            "Building wheels for collected packages: nltk\n",
            "  Building wheel for nltk (setup.py) ... \u001b[?25l\u001b[?25hdone\n",
            "  Created wheel for nltk: filename=nltk-3.2.2-cp36-none-any.whl size=1353249 sha256=a76cb28b8509adb8558f9eaf1f8070ba14d08962aefdbc4a208b7d8c54fb3f29\n",
            "  Stored in directory: /root/.cache/pip/wheels/64/db/e2/39e07b414a807d7aa0350c58417f61fd8654eca1fb5daf20b8\n",
            "Successfully built nltk\n",
            "Installing collected packages: nltk\n",
            "  Found existing installation: nltk 3.2.5\n",
            "    Uninstalling nltk-3.2.5:\n",
            "      Successfully uninstalled nltk-3.2.5\n",
            "Successfully installed nltk-3.2.2\n"
          ],
          "name": "stdout"
        }
      ]
    },
    {
      "cell_type": "code",
      "metadata": {
        "colab": {
          "base_uri": "https://localhost:8080/"
        },
        "id": "kELSbZoUcbfb",
        "outputId": "11c046cf-4225-48c6-9388-bb00deafdc67"
      },
      "source": [
        "!python src/evaluate.py ./data/test.en ./data/references/references.tsv ./predictions/"
      ],
      "execution_count": 9,
      "outputs": [
        {
          "output_type": "stream",
          "text": [
            "  File \"src/evaluate.py\", line 61\n",
            "    print \"\\t\".join( [whichone, \"{:10.2f}\".format(v), k, hypothesis] )\n",
            "             ^\n",
            "SyntaxError: invalid syntax\n"
          ],
          "name": "stdout"
        }
      ]
    }
  ]
}